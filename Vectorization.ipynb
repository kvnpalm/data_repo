{
 "cells": [
  {
   "cell_type": "code",
   "execution_count": 2,
   "metadata": {},
   "outputs": [
    {
     "name": "stdout",
     "output_type": "stream",
     "text": [
      "[1 2 3 4]\n"
     ]
    }
   ],
   "source": [
    "import numpy as np\n",
    "\n",
    "a=np.array([1,2,3,4])\n",
    "print(a)"
   ]
  },
  {
   "cell_type": "code",
   "execution_count": 23,
   "metadata": {},
   "outputs": [
    {
     "name": "stdout",
     "output_type": "stream",
     "text": [
      "vectorized version:1.9757747650146484ms\n",
      "for loop:1418.9963340759277ms\n"
     ]
    }
   ],
   "source": [
    "import time \n",
    "\n",
    "a=np.random.rand(1000000)\n",
    "b=np.random.rand(1000000)\n",
    "\n",
    "tic=time.time()\n",
    "c=np.dot(a,b)\n",
    "toc=time.time()\n",
    "\n",
    "print(\"vectorized version:\"+str(1000*(toc-tic))+\"ms\")\n",
    "\n",
    "c=0\n",
    "tic=time.time()\n",
    "for i in range(1000000):\n",
    "    c+=a[i]*b[i]\n",
    "toc=time.time()\n",
    "print(\"for loop:\"+str(1000*(toc-tic))+\"ms\")\n"
   ]
  },
  {
   "cell_type": "code",
   "execution_count": 24,
   "metadata": {},
   "outputs": [
    {
     "name": "stdout",
     "output_type": "stream",
     "text": [
      "[[1.]\n",
      " [1.]\n",
      " [1.]\n",
      " [1.]\n",
      " [1.]]\n"
     ]
    }
   ],
   "source": [
    "u=np.zeros((5,1))\n",
    "v=np.exp(u)\n",
    "print(v)"
   ]
  },
  {
   "cell_type": "code",
   "execution_count": 28,
   "metadata": {},
   "outputs": [
    {
     "name": "stdout",
     "output_type": "stream",
     "text": [
      "[[ 56.    0.    4.4  68. ]\n",
      " [  1.2 104.   52.    8. ]\n",
      " [  1.8 135.   99.    0.9]]\n"
     ]
    }
   ],
   "source": [
    "A=np.array([[56,0,4.4,68],[1.2,104,52,8],[1.8,135,99,0.9]])\n",
    "print(A)"
   ]
  },
  {
   "cell_type": "code",
   "execution_count": 40,
   "metadata": {},
   "outputs": [
    {
     "name": "stdout",
     "output_type": "stream",
     "text": [
      "[ 59.  239.  155.4  76.9]\n"
     ]
    }
   ],
   "source": [
    "cal=A.sum(axis=0)\n",
    "print(cal)\n"
   ]
  },
  {
   "cell_type": "code",
   "execution_count": 42,
   "metadata": {},
   "outputs": [
    {
     "name": "stdout",
     "output_type": "stream",
     "text": [
      "[[94.91525424  0.          2.83140283 88.42652796]\n",
      " [ 2.03389831 43.51464435 33.46203346 10.40312094]\n",
      " [ 3.05084746 56.48535565 63.70656371  1.17035111]]\n"
     ]
    }
   ],
   "source": [
    "percentage=(100*A/cal.reshape(1,4))\n",
    "print(percentage)"
   ]
  },
  {
   "cell_type": "code",
   "execution_count": 56,
   "metadata": {},
   "outputs": [
    {
     "name": "stdout",
     "output_type": "stream",
     "text": [
      "[ 0.00349657 -0.68107796  2.04900098  1.19884521  1.04172298]\n",
      "(5,)\n",
      "[ 0.00349657 -0.68107796  2.04900098  1.19884521  1.04172298]\n",
      "[[ 0.00349657]\n",
      " [-0.68107796]\n",
      " [ 2.04900098]\n",
      " [ 1.19884521]\n",
      " [ 1.04172298]]\n"
     ]
    }
   ],
   "source": [
    "d=np.random.randn(5)\n",
    "print(d)\n",
    "print(d.shape)\n",
    "print(d.T)\n",
    "v=d.reshape((5,1))\n",
    "print(v)"
   ]
  },
  {
   "cell_type": "code",
   "execution_count": 49,
   "metadata": {},
   "outputs": [
    {
     "name": "stdout",
     "output_type": "stream",
     "text": [
      "6.104678417327802\n"
     ]
    }
   ],
   "source": [
    "print(np.dot(d,d.T))"
   ]
  },
  {
   "cell_type": "code",
   "execution_count": 59,
   "metadata": {},
   "outputs": [
    {
     "name": "stdout",
     "output_type": "stream",
     "text": [
      "[[ 2.46448214]\n",
      " [-0.29202073]\n",
      " [-0.64193386]\n",
      " [-1.52362978]\n",
      " [-0.69839114]]\n",
      "[[ 2.46448214 -0.29202073 -0.64193386 -1.52362978 -0.69839114]]\n"
     ]
    }
   ],
   "source": [
    "d=np.random.randn(5,1)\n",
    "print(d)\n",
    "print(d.T)"
   ]
  },
  {
   "cell_type": "code",
   "execution_count": 60,
   "metadata": {},
   "outputs": [
    {
     "name": "stdout",
     "output_type": "stream",
     "text": [
      "[[ 6.07367224 -0.71967988 -1.58203453 -3.7549584  -1.7211725 ]\n",
      " [-0.71967988  0.08527611  0.187458    0.44493149  0.20394469]\n",
      " [-1.58203453  0.187458    0.41207908  0.97806955  0.44832092]\n",
      " [-3.7549584   0.44493149  0.97806955  2.32144772  1.06408955]\n",
      " [-1.7211725   0.20394469  0.44832092  1.06408955  0.48775019]]\n"
     ]
    }
   ],
   "source": [
    "print(np.dot(d,d.T))"
   ]
  },
  {
   "cell_type": "code",
   "execution_count": 62,
   "metadata": {},
   "outputs": [
    {
     "name": "stdout",
     "output_type": "stream",
     "text": [
      "[[-0.05017141 -0.46781333 -0.76022985]\n",
      " [ 0.2630905   0.20297577 -0.0352193 ]\n",
      " [ 0.22841319 -0.23140921 -0.13315484]]\n"
     ]
    }
   ],
   "source": [
    "a = np.random.randn(3, 3)\n",
    "b = np.random.randn(3, 1)\n",
    "c = a*b\n",
    "print(c)"
   ]
  }
 ],
 "metadata": {
  "kernelspec": {
   "display_name": "Python 3",
   "language": "python",
   "name": "python3"
  },
  "language_info": {
   "codemirror_mode": {
    "name": "ipython",
    "version": 3
   },
   "file_extension": ".py",
   "mimetype": "text/x-python",
   "name": "python",
   "nbconvert_exporter": "python",
   "pygments_lexer": "ipython3",
   "version": "3.7.3"
  }
 },
 "nbformat": 4,
 "nbformat_minor": 2
}
